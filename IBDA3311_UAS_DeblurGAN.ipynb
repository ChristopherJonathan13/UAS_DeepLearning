{
 "cells": [
  {
   "cell_type": "markdown",
   "metadata": {},
   "source": [
    "# IBDA3311 - Proyek UAS: Blur Removal Using GAN"
   ]
  },
  {
   "cell_type": "markdown",
   "metadata": {},
   "source": [
    "Nama anggota kelompok:\n",
    "1. Christopher Jonathan (212100170)\n",
    "2. Dilivio Cullen Lemuel Tilaar (212100576)\n",
    "3. Juan Christian Chandra (212100108)\n",
    "4. Jody Nordberg Imanuel (191900378)"
   ]
  },
  {
   "cell_type": "markdown",
   "metadata": {},
   "source": [
    "## Import Libraries"
   ]
  },
  {
   "cell_type": "code",
   "execution_count": null,
   "metadata": {
    "execution": {
     "iopub.execute_input": "2023-12-13T13:55:25.961761Z",
     "iopub.status.busy": "2023-12-13T13:55:25.961487Z",
     "iopub.status.idle": "2023-12-13T13:55:37.672275Z",
     "shell.execute_reply": "2023-12-13T13:55:37.671297Z",
     "shell.execute_reply.started": "2023-12-13T13:55:25.961736Z"
    }
   },
   "outputs": [],
   "source": [
    "import tensorflow as tf\n",
    "import os\n",
    "import pathlib\n",
    "from matplotlib import pyplot as plt\n",
    "from IPython import display"
   ]
  },
  {
   "cell_type": "markdown",
   "metadata": {},
   "source": [
    "## Hyperparameters"
   ]
  },
  {
   "cell_type": "code",
   "execution_count": null,
   "metadata": {
    "execution": {
     "iopub.execute_input": "2023-12-13T13:55:37.674499Z",
     "iopub.status.busy": "2023-12-13T13:55:37.673950Z",
     "iopub.status.idle": "2023-12-13T13:55:37.680688Z",
     "shell.execute_reply": "2023-12-13T13:55:37.679629Z",
     "shell.execute_reply.started": "2023-12-13T13:55:37.674469Z"
    }
   },
   "outputs": [],
   "source": [
    "# Tentukan path untuk data latih\n",
    "PATH = '/kaggle/input/a-curated-list-of-image-deblurring-datasets/DBlur/Gopro/train/'\n",
    "\n",
    "# Tentukan subdirektori untuk gambar yang kabur dan tajam dalam data latih\n",
    "BLUR = PATH + 'blur'\n",
    "SHARP = PATH + 'sharp'\n",
    "\n",
    "# Tentukan path untuk data uji\n",
    "TEST_PATH = '/kaggle/input/a-curated-list-of-image-deblurring-datasets/DBlur/Gopro/test/'\n",
    "\n",
    "# Tentukan subdirektori untuk gambar yang kabur dan tajam dalam data uji\n",
    "TEST_BLUR = TEST_PATH + 'blur'\n",
    "TEST_SHARP = TEST_PATH + 'sharp'"
   ]
  },
  {
   "cell_type": "code",
   "execution_count": null,
   "metadata": {
    "execution": {
     "iopub.execute_input": "2023-12-13T13:55:37.682504Z",
     "iopub.status.busy": "2023-12-13T13:55:37.681867Z",
     "iopub.status.idle": "2023-12-13T13:55:37.703676Z",
     "shell.execute_reply": "2023-12-13T13:55:37.702721Z",
     "shell.execute_reply.started": "2023-12-13T13:55:37.682470Z"
    }
   },
   "outputs": [],
   "source": [
    "# Ukuran buffer untuk pengacakan data latih\n",
    "BUFFER_SIZE = 400\n",
    "\n",
    "# Ukuran batch yang digunakan dalam pelatihan model\n",
    "BATCH_SIZE = 1\n",
    "\n",
    "# ukuran gambar yang diharapkan oleh model\n",
    "IMG_WIDTH = 256\n",
    "IMG_HEIGHT = 256\n",
    "OUTPUT_CHANNELS = 3"
   ]
  },
  {
   "cell_type": "code",
   "execution_count": null,
   "metadata": {
    "execution": {
     "iopub.execute_input": "2023-12-13T13:55:37.705986Z",
     "iopub.status.busy": "2023-12-13T13:55:37.705689Z",
     "iopub.status.idle": "2023-12-13T13:55:37.714399Z",
     "shell.execute_reply": "2023-12-13T13:55:37.713520Z",
     "shell.execute_reply.started": "2023-12-13T13:55:37.705962Z"
    }
   },
   "outputs": [],
   "source": [
    "# constant in the generator loss function\n",
    "LAMBDA = 100"
   ]
  },
  {
   "cell_type": "markdown",
   "metadata": {},
   "source": [
    "## Image Preprocessing and Dataset Creation"
   ]
  },
  {
   "cell_type": "code",
   "execution_count": null,
   "metadata": {
    "_kg_hide-output": true,
    "execution": {
     "iopub.execute_input": "2023-12-13T13:55:37.715935Z",
     "iopub.status.busy": "2023-12-13T13:55:37.715671Z",
     "iopub.status.idle": "2023-12-13T13:55:37.726705Z",
     "shell.execute_reply": "2023-12-13T13:55:37.725906Z",
     "shell.execute_reply.started": "2023-12-13T13:55:37.715905Z"
    }
   },
   "outputs": [],
   "source": [
    "# Fungsi untuk memuat gambar dari path file tertentu\n",
    "def load(file_path):\n",
    "    # Ekstrak nama file gambar dari path file\n",
    "    image_file = tf.strings.split(file_path, os.sep)[-1]\n",
    "    \n",
    "    # Baca konten gambar yang blur dari file\n",
    "    image_b = tf.io.read_file(BLUR + '/' + image_file)\n",
    "    # Decode konten gambar yang blur sebagai format PNG\n",
    "    image_b = tf.io.decode_png(image_b)\n",
    "    \n",
    "    # Baca konten gambar yang tajam dari file\n",
    "    image_s = tf.io.read_file(SHARP + '/' + image_file)\n",
    "    # Decode konten gambar yang tajam sebagai format PNG\n",
    "    image_s = tf.io.decode_png(image_s)\n",
    "\n",
    "    # Ubah tipe data gambar yang blur menjadi float32\n",
    "    input_image = tf.cast(image_b, tf.float32)\n",
    "    # Ubah tipe data gambar yang tajam menjadi float32\n",
    "    sharp_image = tf.cast(image_s, tf.float32)\n",
    "\n",
    "    return input_image, sharp_image"
   ]
  },
  {
   "cell_type": "code",
   "execution_count": null,
   "metadata": {
    "execution": {
     "iopub.execute_input": "2023-12-13T13:55:37.727988Z",
     "iopub.status.busy": "2023-12-13T13:55:37.727717Z",
     "iopub.status.idle": "2023-12-13T13:55:37.737287Z",
     "shell.execute_reply": "2023-12-13T13:55:37.736536Z",
     "shell.execute_reply.started": "2023-12-13T13:55:37.727965Z"
    }
   },
   "outputs": [],
   "source": [
    "# Fungsi untuk memuat gambar uji dari path file tertentu\n",
    "def load_test(file_path):\n",
    "    # Ekstrak nama file gambar dari path file\n",
    "    image_file = tf.strings.split(file_path, os.sep)[-1]\n",
    "    \n",
    "    # Baca konten gambar yang blur dari file\n",
    "    image_b = tf.io.read_file(TEST_BLUR + '/' + image_file)\n",
    "    # Decode konten gambar yang blur sebagai format PNG\n",
    "    image_b = tf.io.decode_png(image_b)\n",
    "    \n",
    "    # Baca konten gambar yang tajam dari file\n",
    "    image_s = tf.io.read_file(TEST_SHARP + '/' + image_file)\n",
    "    # Decode konten gambar yang tajam sebagai format PNG\n",
    "    image_s = tf.io.decode_png(image_s)\n",
    "    \n",
    "    # Ubah tipe data gambar yang blur menjadi float32\n",
    "    input_image = tf.cast(image_b, tf.float32)\n",
    "    # Ubah tipe data gambar yang tajam menjadi float32\n",
    "    sharp_image = tf.cast(image_s, tf.float32)\n",
    "\n",
    "    return input_image, sharp_image"
   ]
  },
  {
   "cell_type": "code",
   "execution_count": null,
   "metadata": {
    "execution": {
     "iopub.execute_input": "2023-12-13T13:55:37.738684Z",
     "iopub.status.busy": "2023-12-13T13:55:37.738344Z",
     "iopub.status.idle": "2023-12-13T13:55:37.748067Z",
     "shell.execute_reply": "2023-12-13T13:55:37.747208Z",
     "shell.execute_reply.started": "2023-12-13T13:55:37.738651Z"
    }
   },
   "outputs": [],
   "source": [
    "# Fungsi untuk mengubah ukuran gambar\n",
    "# Fungsi ini untuk memastikan bahwa gambar-gambar yang masuk ke dalam model memiliki ukuran yang sesuai dengan kebutuhan model\n",
    "def resize(input_image, real_image, height, width):\n",
    "    # Mengubah ukuran gambar yang blur menggunakan metode Nearest Neighbor\n",
    "    input_image = tf.image.resize(input_image, [height, width], method=tf.image.ResizeMethod.NEAREST_NEIGHBOR)\n",
    "    \n",
    "    # Mengubah ukuran gambar yang tajam menggunakan metode Nearest Neighbor\n",
    "    real_image = tf.image.resize(real_image, [height, width], method=tf.image.ResizeMethod.NEAREST_NEIGHBOR)\n",
    "\n",
    "    return input_image, real_image"
   ]
  },
  {
   "cell_type": "code",
   "execution_count": null,
   "metadata": {
    "execution": {
     "iopub.execute_input": "2023-12-13T13:55:37.749726Z",
     "iopub.status.busy": "2023-12-13T13:55:37.749140Z",
     "iopub.status.idle": "2023-12-13T13:55:37.757666Z",
     "shell.execute_reply": "2023-12-13T13:55:37.756845Z",
     "shell.execute_reply.started": "2023-12-13T13:55:37.749703Z"
    }
   },
   "outputs": [],
   "source": [
    "# Fungsi untuk melakukan pemangkasan acak (random crop) pada gambar\n",
    "# Fungsi ini untuk memperkenalkan variasi dan mengurangi overfitting dalam pelatihan model GAN\n",
    "def random_crop(input_image, real_image):\n",
    "    # Menggabungkan kedua gambar menjadi satu tensor\n",
    "    stacked_image = tf.stack([input_image, real_image], axis=0)\n",
    "    # Melakukan pemangkasan acak pada tensor yang telah dibuat\n",
    "    cropped_image = tf.image.random_crop(stacked_image, size=[2, IMG_HEIGHT, IMG_WIDTH, 3])\n",
    "    # Mengembalikan gambar yang telah dipangkas acak\n",
    "    return cropped_image[0], cropped_image[1]"
   ]
  },
  {
   "cell_type": "code",
   "execution_count": null,
   "metadata": {
    "execution": {
     "iopub.execute_input": "2023-12-13T13:55:37.758952Z",
     "iopub.status.busy": "2023-12-13T13:55:37.758691Z",
     "iopub.status.idle": "2023-12-13T13:55:37.772276Z",
     "shell.execute_reply": "2023-12-13T13:55:37.771404Z",
     "shell.execute_reply.started": "2023-12-13T13:55:37.758930Z"
    }
   },
   "outputs": [],
   "source": [
    "# Fungsi untuk normalisasi nilai pixel pada gambar\n",
    "# Normalisasi ini membantu dalam meningkatkan stabilitas dan konvergensi model selama pelatihan, \n",
    "# serta memastikan bahwa input yang diberikan ke model memiliki skala nilai yang seragam.\n",
    "def normalize(input_image, real_image):\n",
    "    # Normalisasi ini bertujuan untuk mengubah rentang nilai pixel menjadi [-1, 1].\n",
    "    # Normalisasi nilai pixel pada gambar yang blur\n",
    "    input_image = (input_image / 127.5) - 1\n",
    "    # Normalisasi nilai pixel pada gambar yang tajam\n",
    "    real_image = (real_image / 127.5) - 1\n",
    "\n",
    "    return input_image, real_image"
   ]
  },
  {
   "cell_type": "code",
   "execution_count": null,
   "metadata": {
    "execution": {
     "iopub.execute_input": "2023-12-13T13:55:37.776031Z",
     "iopub.status.busy": "2023-12-13T13:55:37.775743Z",
     "iopub.status.idle": "2023-12-13T13:55:37.782978Z",
     "shell.execute_reply": "2023-12-13T13:55:37.782236Z",
     "shell.execute_reply.started": "2023-12-13T13:55:37.776008Z"
    }
   },
   "outputs": [],
   "source": [
    "# Anotasi tf.function mengubah fungsi menjadi graf TensorFlow untuk kinerja yang lebih baik\n",
    "@tf.function()\n",
    "\n",
    "# Fungsi random_jitter ini memiliki tujuan untuk menerapkan sejumlah transformasi data secara acak pada \n",
    "# gambar input dan gambar target selama pelatihan model. \n",
    "# Transformasi ini bertujuan untuk memperkenalkan variasi dalam data pelatihan, sehingga model dapat belajar dengan lebih baik\n",
    "def random_jitter(input_image, real_image):\n",
    "    # Mengubah ukuran gambar ke dimensi yang lebih besar menggunakan fungsi resize\n",
    "    input_image, real_image = resize(input_image, real_image, 286, 286)\n",
    "    # Melakukan pemangkasan acak pada gambar yang telah diubah ukurannya\n",
    "    input_image, real_image = random_crop(input_image, real_image)\n",
    "    \n",
    "    # Melakukan flip horizontal pada gambar dengan probabilitas 50%\n",
    "    if tf.random.uniform(()) > 0.5:\n",
    "        input_image = tf.image.flip_left_right(input_image)\n",
    "        real_image = tf.image.flip_left_right(real_image)\n",
    "\n",
    "    return input_image, real_image"
   ]
  },
  {
   "cell_type": "code",
   "execution_count": null,
   "metadata": {
    "execution": {
     "iopub.execute_input": "2023-12-13T13:55:37.784079Z",
     "iopub.status.busy": "2023-12-13T13:55:37.783858Z",
     "iopub.status.idle": "2023-12-13T13:55:37.794547Z",
     "shell.execute_reply": "2023-12-13T13:55:37.793814Z",
     "shell.execute_reply.started": "2023-12-13T13:55:37.784059Z"
    }
   },
   "outputs": [],
   "source": [
    "# Fungsi untuk memuat dan memproses gambar uji\n",
    "def load_image_test(image_file):\n",
    "    # Memuat gambar uji menggunakan fungsi load_test\n",
    "    input_image, real_image = load_test(image_file)\n",
    "    # Mengubah ukuran gambar uji ke dimensi yang diharapkan menggunakan fungsi resize\n",
    "    input_image, real_image = resize(input_image, real_image, IMG_HEIGHT, IMG_WIDTH)\n",
    "    # Normalisasi nilai pixel pada gambar uji menggunakan fungsi normalize\n",
    "    input_image, real_image = normalize(input_image, real_image)\n",
    "\n",
    "    return input_image, real_image"
   ]
  },
  {
   "cell_type": "code",
   "execution_count": null,
   "metadata": {
    "execution": {
     "iopub.execute_input": "2023-12-13T13:55:37.795845Z",
     "iopub.status.busy": "2023-12-13T13:55:37.795588Z",
     "iopub.status.idle": "2023-12-13T13:55:37.805948Z",
     "shell.execute_reply": "2023-12-13T13:55:37.805074Z",
     "shell.execute_reply.started": "2023-12-13T13:55:37.795823Z"
    }
   },
   "outputs": [],
   "source": [
    "# Fungsi untuk memuat dan memproses gambar latih\n",
    "def load_image_train(image_file):\n",
    "    # Memuat gambar latih menggunakan fungsi load\n",
    "    input_image, real_image = load(image_file)\n",
    "    # Melakukan jittering acak pada gambar latih menggunakan fungsi random_jitter\n",
    "    input_image, real_image = random_jitter(input_image, real_image)\n",
    "    # Normalisasi nilai pixel pada gambar latih menggunakan fungsi normalize\n",
    "    input_image, real_image = normalize(input_image, real_image)\n",
    "    \n",
    "    return input_image, real_image"
   ]
  },
  {
   "cell_type": "code",
   "execution_count": null,
   "metadata": {
    "execution": {
     "iopub.execute_input": "2023-12-13T13:55:37.807174Z",
     "iopub.status.busy": "2023-12-13T13:55:37.806899Z",
     "iopub.status.idle": "2023-12-13T13:55:42.619272Z",
     "shell.execute_reply": "2023-12-13T13:55:42.618330Z",
     "shell.execute_reply.started": "2023-12-13T13:55:37.807152Z"
    }
   },
   "outputs": [],
   "source": [
    "# Membuat dataset dari daftar file gambar latih\n",
    "train_dataset = tf.data.Dataset.list_files(str(SHARP + '/*.png'))\n",
    "\n",
    "# Memetakan fungsi load_image_train ke setiap elemen dataset secara paralel\n",
    "# num_parallel_calls=tf.data.AUTOTUNE memungkinkan TensorFlow untuk secara otomatis menentukan jumlah thread yang optimal \n",
    "# untuk memproses secara paralel, guna meningkatkan efisiensi.\n",
    "train_dataset = train_dataset.map(load_image_train, num_parallel_calls=tf.data.AUTOTUNE)\n",
    "\n",
    "# Mengacak dataset untuk meningkatkan variasi pada setiap epoch\n",
    "# Hal ini berguna untuk memperkenalkan variasi pada setiap epoch pelatihan, \n",
    "# sehingga model tidak hanya melihat pola yang sama dalam setiap batch.\n",
    "train_dataset = train_dataset.shuffle(BUFFER_SIZE)\n",
    "\n",
    "# Membagi dataset menjadi batch-batch berukuran BATCH_SIZE\n",
    "train_dataset = train_dataset.batch(BATCH_SIZE)"
   ]
  },
  {
   "cell_type": "code",
   "execution_count": null,
   "metadata": {
    "execution": {
     "iopub.execute_input": "2023-12-13T13:55:42.620752Z",
     "iopub.status.busy": "2023-12-13T13:55:42.620454Z",
     "iopub.status.idle": "2023-12-13T13:55:42.949768Z",
     "shell.execute_reply": "2023-12-13T13:55:42.949042Z",
     "shell.execute_reply.started": "2023-12-13T13:55:42.620728Z"
    }
   },
   "outputs": [],
   "source": [
    "# Membuat dataset dari daftar file gambar uji\n",
    "test_dataset = tf.data.Dataset.list_files(str(TEST_SHARP + '/*.png'))\n",
    "# Memetakan fungsi load_image_test ke setiap elemen dataset\n",
    "test_dataset = test_dataset.map(load_image_test)\n",
    "# Membagi dataset uji menjadi batch-batch berukuran BATCH_SIZE\n",
    "test_dataset = test_dataset.batch(BATCH_SIZE)"
   ]
  },
  {
   "cell_type": "markdown",
   "metadata": {},
   "source": [
    "## Generator"
   ]
  },
  {
   "cell_type": "markdown",
   "metadata": {},
   "source": [
    "### Reflection Padding"
   ]
  },
  {
   "cell_type": "code",
   "execution_count": null,
   "metadata": {
    "execution": {
     "iopub.execute_input": "2023-12-13T13:55:42.951100Z",
     "iopub.status.busy": "2023-12-13T13:55:42.950829Z",
     "iopub.status.idle": "2023-12-13T13:55:43.070682Z",
     "shell.execute_reply": "2023-12-13T13:55:43.069974Z",
     "shell.execute_reply.started": "2023-12-13T13:55:42.951076Z"
    }
   },
   "outputs": [],
   "source": [
    "# Mendefinisikan kelas ReflectionPadding2D sebagai lapisan khusus dalam model Keras\n",
    "# Untuk menambah nilai padding pada tepi gambar\n",
    "class ReflectionPadding2D(tf.keras.layers.Layer):\n",
    "    def __init__(self, padding=(1, 1), **kwargs):\n",
    "        # Mengatur padding sebagai tupel dari parameter input\n",
    "        self.padding = tuple(padding)\n",
    "        # Menentukan spesifikasi input sebagai input 4 dimensi\n",
    "        self.input_spec = [tf.keras.layers.InputSpec(ndim=4)]\n",
    "        # Memanggil konstruktor kelas induk (super) dengan argumen tambahan jika ada\n",
    "        super(ReflectionPadding2D, self).__init__(**kwargs)\n",
    "\n",
    "    def compute_output_shape(self, s):\n",
    "        # Menghitung dan mengembalikan bentuk output berdasarkan bentuk input\n",
    "        return (s[0], s[1] + 2 * self.padding[0], s[2] + 2 * self.padding[1], s[3])\n",
    "\n",
    "    def call(self, x, mask=None):\n",
    "        # Mendapatkan nilai padding untuk lebar dan tinggi\n",
    "        w_pad,h_pad = self.padding\n",
    "        # Menggunakan tf.pad untuk menerapkan padding reflektif pada input x\n",
    "        return tf.pad(x, [[0,0], [h_pad,h_pad], [w_pad,w_pad], [0,0] ], 'REFLECT')"
   ]
  },
  {
   "cell_type": "markdown",
   "metadata": {},
   "source": [
    "### Residual block"
   ]
  },
  {
   "cell_type": "code",
   "execution_count": null,
   "metadata": {
    "execution": {
     "iopub.execute_input": "2023-12-13T13:55:43.072212Z",
     "iopub.status.busy": "2023-12-13T13:55:43.071880Z",
     "iopub.status.idle": "2023-12-13T13:55:43.080336Z",
     "shell.execute_reply": "2023-12-13T13:55:43.079440Z",
     "shell.execute_reply.started": "2023-12-13T13:55:43.072179Z"
    }
   },
   "outputs": [],
   "source": [
    "# Fungsi untuk membangun blok residual dalam jaringan ResNet\n",
    "# Untuk membantu dalam mengatasi masalah vanishing gradient (kesalahan terhadap bobot parameter)\n",
    "def res_net(input, filters, kernel_size, strides=(1, 1), apply_dropout=False):\n",
    "    # Inisialisasi penentu acak untuk kernel konvolusi\n",
    "    initializer = tf.random_normal_initializer(0., 0.02)\n",
    "    \n",
    "    # Penerapan Reflection Padding menggunakan lapisan ReflectionPadding2D yang telah didefinisikan sebelumnya\n",
    "    x = ReflectionPadding2D(padding=(1,1))(input)\n",
    "    # Konvolusi dengan menggunakan Conv2D, dilanjutkan dengan inisialisasi kernel dan langkah tertentu\n",
    "    x = tf.keras.layers.Conv2D(filters=filters, kernel_size=kernel_size, kernel_initializer=initializer, strides=strides)(x)\n",
    "    # Normalisasi batch untuk meningkatkan stabilitas dan kecepatan konvergensi\n",
    "    x = tf.keras.layers.BatchNormalization()(x)\n",
    "    # Aktivasi ReLU untuk memperkenalkan non-linearitas\n",
    "    x = tf.nn.relu(x)\n",
    "\n",
    "    # Jika diterapkan dropout, lakukan dropout pada layer ini\n",
    "    if apply_dropout:\n",
    "        x = tf.keras.layers.Dropout(0.5)(x)\n",
    "    \n",
    "    # Penerapan Reflection Padding pada lapisan kedua\n",
    "    x = ReflectionPadding2D(padding=(1,1))(x)\n",
    "    # Konvolusi lagi dengan menggunakan Conv2D, dilanjutkan dengan normalisasi batch\n",
    "    x = tf.keras.layers.Conv2D(filters=filters, kernel_size=kernel_size, kernel_initializer=initializer, strides=strides)(x)\n",
    "    x = tf.keras.layers.BatchNormalization()(x)\n",
    "    \n",
    "    # Menambahkan output dari blok residual dengan input awal\n",
    "    merged = tf.keras.layers.Add()([input, x])\n",
    "    \n",
    "    # Mengembalikan output blok residual yang dihasilkan\n",
    "    return merged"
   ]
  },
  {
   "cell_type": "markdown",
   "metadata": {},
   "source": [
    "### Generator Model"
   ]
  },
  {
   "cell_type": "code",
   "execution_count": null,
   "metadata": {
    "execution": {
     "iopub.execute_input": "2023-12-13T13:55:43.082018Z",
     "iopub.status.busy": "2023-12-13T13:55:43.081498Z",
     "iopub.status.idle": "2023-12-13T13:55:43.097697Z",
     "shell.execute_reply": "2023-12-13T13:55:43.096858Z",
     "shell.execute_reply.started": "2023-12-13T13:55:43.081991Z"
    }
   },
   "outputs": [],
   "source": [
    "# Fungsi untuk membuat model Generator\n",
    "def Generator():\n",
    "    # Inisialisasi penentu acak untuk kernel konvolusi\n",
    "    initializer = tf.random_normal_initializer(0., 0.02)\n",
    "    # Mendefinisikan input dengan dimensi 256x256x3\n",
    "    inputs = tf.keras.layers.Input(shape=[256, 256, 3])\n",
    "\n",
    "    # Blok pertama: 7x7 Convolution dengan 64 filter\n",
    "    # Penerapan Reflection Padding menggunakan lapisan ReflectionPadding2D yang telah didefinisikan\n",
    "    x = ReflectionPadding2D(padding=(3,3))(inputs)\n",
    "    # Konvolusi dengan menggunakan Conv2D, dilanjutkan dengan inisialisasi kernel\n",
    "    x = tf.keras.layers.Conv2D(64, kernel_size=(7,7), padding='valid', kernel_initializer=initializer)(x)\n",
    "    # Normalisasi batch untuk meningkatkan stabilitas dan kecepatan konvergensi\n",
    "    x = tf.keras.layers.BatchNormalization()(x)\n",
    "    # Aktivasi ReLU untuk memperkenalkan non-linearitas\n",
    "    x = tf.nn.relu(x)\n",
    "\n",
    "    # Blok kedua: 3x3 Convolution dengan 128 filter dan stride 2\n",
    "    x = tf.keras.layers.Conv2D(128, kernel_size=(3,3), padding='same', strides=2, kernel_initializer=initializer)(x)\n",
    "    x = tf.keras.layers.BatchNormalization()(x)\n",
    "    x = tf.nn.relu(x)\n",
    "\n",
    "    # Blok ketiga: 3x3 Convolution dengan 256 filter dan stride 2\n",
    "    x = tf.keras.layers.Conv2D(256, kernel_size=(3,3), padding='same', strides=2, kernel_initializer=initializer)(x)\n",
    "    x = tf.keras.layers.BatchNormalization()(x)\n",
    "    x = tf.nn.relu(x)\n",
    "\n",
    "    # Blok ResNet: 9 blok dengan 256 filter dan dropout\n",
    "    for _ in range(9):\n",
    "        x = res_net(x, 256, kernel_size=(3,3), apply_dropout=True)\n",
    "\n",
    "    # Blok keempat: Upsampling dengan 128 filter\n",
    "    x = tf.keras.layers.UpSampling2D(interpolation='bilinear')(x)\n",
    "    x = tf.keras.layers.Conv2D(128, kernel_size=(3,3), padding='same', kernel_initializer=initializer)(x)\n",
    "    x = tf.keras.layers.BatchNormalization()(x)\n",
    "    x = tf.nn.relu(x)\n",
    "\n",
    "    # Blok kelima: Upsampling dengan 64 filter\n",
    "    x = tf.keras.layers.UpSampling2D(interpolation='bilinear')(x)\n",
    "    x = tf.keras.layers.Conv2D(64, kernel_size=(3,3), padding='same', kernel_initializer=initializer)(x)\n",
    "    x = tf.keras.layers.BatchNormalization()(x)\n",
    "    x = tf.nn.relu(x)\n",
    "\n",
    "    # Blok keenam: 7x7 Convolution dengan jumlah filter yang sama dengan OUTPUT_CHANNELS\n",
    "    x = ReflectionPadding2D(padding=(3,3))(x)\n",
    "    x = tf.keras.layers.Conv2D(filters=OUTPUT_CHANNELS, kernel_size=(7,7), padding='valid', kernel_initializer=initializer)(x)\n",
    "    x = tf.nn.tanh(x)\n",
    "    \n",
    "    # Menggunakan layer Add untuk menambahkan input awal dan output dari blok keenam\n",
    "    outputs = tf.keras.layers.Add()([x, inputs])\n",
    "    # Menggunakan layer Lambda untuk membagi hasil penambahan dengan 2\n",
    "    outputs = tf.keras.layers.Lambda(lambda z: z/2)(outputs)\n",
    "    \n",
    "    # Membuat model dengan menggunakan Model API dari Keras\n",
    "    model = tf.keras.models.Model(inputs=inputs, outputs=outputs, name='Generator')\n",
    "    \n",
    "    return model"
   ]
  },
  {
   "cell_type": "code",
   "execution_count": null,
   "metadata": {
    "execution": {
     "iopub.execute_input": "2023-12-13T13:55:43.099447Z",
     "iopub.status.busy": "2023-12-13T13:55:43.098838Z",
     "iopub.status.idle": "2023-12-13T13:55:43.993336Z",
     "shell.execute_reply": "2023-12-13T13:55:43.992604Z",
     "shell.execute_reply.started": "2023-12-13T13:55:43.099415Z"
    }
   },
   "outputs": [],
   "source": [
    "# Membuat instance dari model Generator\n",
    "generator = Generator()"
   ]
  },
  {
   "cell_type": "markdown",
   "metadata": {},
   "source": [
    "### Loss functions"
   ]
  },
  {
   "cell_type": "code",
   "execution_count": null,
   "metadata": {
    "execution": {
     "iopub.execute_input": "2023-12-13T13:55:43.994875Z",
     "iopub.status.busy": "2023-12-13T13:55:43.994408Z",
     "iopub.status.idle": "2023-12-13T13:55:44.726297Z",
     "shell.execute_reply": "2023-12-13T13:55:44.725494Z",
     "shell.execute_reply.started": "2023-12-13T13:55:43.994841Z"
    }
   },
   "outputs": [],
   "source": [
    "# Menggunakan model pre-trained VGG16 sebagai bagian dari model lain\n",
    "vgg = tf.keras.applications.vgg16.VGG16(include_top=False, weights='imagenet', input_shape=(256,256,3))\n",
    "# Membuat model yang menggunakan model VGG16 untuk perhitungan loss\n",
    "loss_model = tf.keras.Model(inputs=vgg.input, outputs=vgg.get_layer('block3_conv3').output)\n",
    "# Menetapkan agar model VGG16 tidak dapat dilatih kembali (freeze) untuk pembaruan bobot\n",
    "loss_model.trainable = False"
   ]
  },
  {
   "cell_type": "code",
   "execution_count": null,
   "metadata": {
    "execution": {
     "iopub.execute_input": "2023-12-13T13:55:44.727918Z",
     "iopub.status.busy": "2023-12-13T13:55:44.727576Z",
     "iopub.status.idle": "2023-12-13T13:55:44.732909Z",
     "shell.execute_reply": "2023-12-13T13:55:44.731987Z",
     "shell.execute_reply.started": "2023-12-13T13:55:44.727888Z"
    }
   },
   "outputs": [],
   "source": [
    "# Fungsi untuk menghitung perceptual loss antara gambar asli (y_true) dan gambar yang dihasilkan (y_pred)\n",
    "def perceptual_loss(y_true, y_pred):\n",
    "    # Menghitung selisih antara hasil ekstraksi fitur dari model VGG16 untuk gambar asli dan gambar yang dihasilkan\n",
    "    # Kemudian, mengambil nilai rata-rata dari seluruh selisih sebagai nilai loss\n",
    "    return tf.reduce_mean(tf.square(loss_model(y_true) - loss_model(y_pred)))"
   ]
  },
  {
   "cell_type": "code",
   "execution_count": null,
   "metadata": {
    "execution": {
     "iopub.execute_input": "2023-12-13T13:55:44.734466Z",
     "iopub.status.busy": "2023-12-13T13:55:44.734141Z",
     "iopub.status.idle": "2023-12-13T13:55:44.744854Z",
     "shell.execute_reply": "2023-12-13T13:55:44.743926Z",
     "shell.execute_reply.started": "2023-12-13T13:55:44.734436Z"
    }
   },
   "outputs": [],
   "source": [
    "# Fungsi untuk menghitung loss generator\n",
    "def generator_loss(disc_generated_output, gen_output, target):\n",
    "    # Menghitung GAN loss (negative mean dari output discriminator terhadap gambar yang dihasilkan)\n",
    "    gan_loss = -tf.reduce_mean(disc_generated_output)\n",
    "    # Menghitung L2 (perceptual) loss menggunakan fungsi perceptual_loss yang telah didefinisikan sebelumnya\n",
    "    l2_loss = perceptual_loss(target, gen_output)\n",
    "    # Menjumlahkan GAN loss dan L2 loss dengan bobot LAMBDA sebagai faktor\n",
    "    total_gen_loss = gan_loss + LAMBDA*l2_loss\n",
    "    \n",
    "    return total_gen_loss, gan_loss, l2_loss"
   ]
  },
  {
   "cell_type": "markdown",
   "metadata": {},
   "source": [
    "## Discriminator"
   ]
  },
  {
   "cell_type": "markdown",
   "metadata": {},
   "source": [
    "### Patch GAN"
   ]
  },
  {
   "cell_type": "code",
   "execution_count": null,
   "metadata": {
    "execution": {
     "iopub.execute_input": "2023-12-13T13:55:44.746675Z",
     "iopub.status.busy": "2023-12-13T13:55:44.746022Z",
     "iopub.status.idle": "2023-12-13T13:55:44.755954Z",
     "shell.execute_reply": "2023-12-13T13:55:44.755035Z",
     "shell.execute_reply.started": "2023-12-13T13:55:44.746644Z"
    }
   },
   "outputs": [],
   "source": [
    "# Fungsi untuk membuat lapisan downsample (pengurangan resolusi)\n",
    "def downsample(filters, size, apply_batchnorm=True):\n",
    "    # Inisialisasi penentu acak untuk kernel konvolusi\n",
    "    initializer = tf.random_normal_initializer(0., 0.02)\n",
    "    # Membuat Sequential model sebagai container untuk lapisan-lapisan\n",
    "    result = tf.keras.Sequential()\n",
    "    # Menambahkan lapisan konvolusi dengan jumlah filter, ukuran kernel, dan langkah (strides) yang ditentukan\n",
    "    result.add(tf.keras.layers.Conv2D(filters, size, strides=2, padding='same', kernel_initializer=initializer, use_bias=False))\n",
    "    \n",
    "    # Jika diterapkan, menambahkan normalisasi batch\n",
    "    if apply_batchnorm:\n",
    "        result.add(tf.keras.layers.BatchNormalization())\n",
    "    \n",
    "    # Menambahkan lapisan aktivasi LeakyReLU untuk memperkenalkan non-linearitas\n",
    "    result.add(tf.keras.layers.LeakyReLU())\n",
    "    \n",
    "    # Mengembalikan hasil model Sequential\n",
    "    return result"
   ]
  },
  {
   "cell_type": "code",
   "execution_count": null,
   "metadata": {
    "execution": {
     "iopub.execute_input": "2023-12-13T13:55:44.757343Z",
     "iopub.status.busy": "2023-12-13T13:55:44.757084Z",
     "iopub.status.idle": "2023-12-13T13:55:44.767803Z",
     "shell.execute_reply": "2023-12-13T13:55:44.767067Z",
     "shell.execute_reply.started": "2023-12-13T13:55:44.757320Z"
    }
   },
   "outputs": [],
   "source": [
    "# Fungsi untuk membuat model Discriminator\n",
    "def Discriminator():\n",
    "    # Inisialisasi penentu acak untuk kernel konvolusi\n",
    "    initializer = tf.random_normal_initializer(0., 0.02)\n",
    "    \n",
    "    # Input layer untuk gambar asli dan gambar target\n",
    "    inp = tf.keras.layers.Input(shape=[256, 256, 3], name='input_image')\n",
    "    tar = tf.keras.layers.Input(shape=[256, 256, 3], name='target_image')\n",
    "    \n",
    "    # Menggabungkan gambar asli dan gambar target sebagai input\n",
    "    x = tf.keras.layers.concatenate([inp, tar])  # (batch_size, 256, 256, channels*2)\n",
    "    \n",
    "    # Lapisan downsample (pengurangan resolusi)\n",
    "    down1 = downsample(64, 4, False)(x)  # (batch_size, 128, 128, 64)\n",
    "    down2 = downsample(128, 4)(down1)  # (batch_size, 64, 64, 128)\n",
    "    down3 = downsample(256, 4)(down2)  # (batch_size, 32, 32, 256)\n",
    "    \n",
    "    # Padding zero dan lapisan konvolusi untuk mendapatkan hasil dengan jumlah filter 512\n",
    "    zero_pad1 = tf.keras.layers.ZeroPadding2D()(down3)  # (batch_size, 34, 34, 256)\n",
    "    conv = tf.keras.layers.Conv2D(512, 4, strides=1, kernel_initializer=initializer, use_bias=False)(zero_pad1)  # (batch_size, 31, 31, 512)\n",
    "    \n",
    "    # Normalisasi batch pada hasil konvolusi\n",
    "    batchnorm1 = tf.keras.layers.BatchNormalization()(conv)\n",
    "    \n",
    "    # Aktivasi LeakyReLU untuk memperkenalkan non-linearitas\n",
    "    leaky_relu = tf.keras.layers.LeakyReLU()(batchnorm1)\n",
    "    \n",
    "    # Padding zero dan lapisan konvolusi untuk mendapatkan hasil dengan jumlah filter 1\n",
    "    zero_pad2 = tf.keras.layers.ZeroPadding2D()(leaky_relu)  # (batch_size, 33, 33, 512)\n",
    "    last = tf.keras.layers.Conv2D(1, 4, strides=1, kernel_initializer=initializer)(zero_pad2)  # (batch_size, 30, 30, 1)\n",
    "    \n",
    "    # Mengembalikan model Discriminator\n",
    "    return tf.keras.Model(inputs=[inp, tar], outputs=last)"
   ]
  },
  {
   "cell_type": "code",
   "execution_count": null,
   "metadata": {
    "execution": {
     "iopub.execute_input": "2023-12-13T13:55:44.769034Z",
     "iopub.status.busy": "2023-12-13T13:55:44.768779Z",
     "iopub.status.idle": "2023-12-13T13:55:44.923267Z",
     "shell.execute_reply": "2023-12-13T13:55:44.922592Z",
     "shell.execute_reply.started": "2023-12-13T13:55:44.769012Z"
    }
   },
   "outputs": [],
   "source": [
    "# Membuat instance dari model Discriminator\n",
    "discriminator = Discriminator()"
   ]
  },
  {
   "cell_type": "markdown",
   "metadata": {},
   "source": [
    "### Discriminator loss functions"
   ]
  },
  {
   "cell_type": "code",
   "execution_count": null,
   "metadata": {
    "execution": {
     "iopub.execute_input": "2023-12-13T13:55:44.924684Z",
     "iopub.status.busy": "2023-12-13T13:55:44.924411Z",
     "iopub.status.idle": "2023-12-13T13:55:44.928785Z",
     "shell.execute_reply": "2023-12-13T13:55:44.927922Z",
     "shell.execute_reply.started": "2023-12-13T13:55:44.924661Z"
    }
   },
   "outputs": [],
   "source": [
    "# Fungsi untuk menghitung Wasserstein Loss\n",
    "def wasserstein_loss(y_true, y_pred):\n",
    "    # Menghitung mean dari perkalian antara label sebenarnya (y_true) dan prediksi (y_pred)\n",
    "    return tf.reduce_mean(y_true * y_pred)"
   ]
  },
  {
   "cell_type": "code",
   "execution_count": null,
   "metadata": {
    "execution": {
     "iopub.execute_input": "2023-12-13T13:55:44.930281Z",
     "iopub.status.busy": "2023-12-13T13:55:44.930026Z",
     "iopub.status.idle": "2023-12-13T13:55:44.941085Z",
     "shell.execute_reply": "2023-12-13T13:55:44.940331Z",
     "shell.execute_reply.started": "2023-12-13T13:55:44.930259Z"
    }
   },
   "outputs": [],
   "source": [
    "# Fungsi untuk menghitung loss Discriminator\n",
    "def discriminator_loss(disc_real_output, disc_generated_output):\n",
    "    # Menghitung Wasserstein Loss untuk sampel asli dengan label sebenarnya 1\n",
    "    real_loss = wasserstein_loss(tf.ones_like(disc_real_output), disc_real_output)\n",
    "    # Menghitung Wasserstein Loss untuk sampel yang dihasilkan dengan label palsu 0\n",
    "    generated_loss = wasserstein_loss(tf.zeros_like(disc_real_output), disc_generated_output)\n",
    "    # Menghitung total loss Discriminator sebagai rata-rata dari kedua komponen loss\n",
    "    total_disc_loss = tf.reduce_mean(real_loss + generated_loss)\n",
    "    \n",
    "    # Mengembalikan total loss Discriminator\n",
    "    return total_disc_loss"
   ]
  },
  {
   "cell_type": "markdown",
   "metadata": {},
   "source": [
    "## Training"
   ]
  },
  {
   "cell_type": "markdown",
   "metadata": {},
   "source": [
    "### Adam Optimizers"
   ]
  },
  {
   "cell_type": "code",
   "execution_count": null,
   "metadata": {
    "execution": {
     "iopub.execute_input": "2023-12-13T13:55:44.942241Z",
     "iopub.status.busy": "2023-12-13T13:55:44.942016Z",
     "iopub.status.idle": "2023-12-13T13:55:44.956078Z",
     "shell.execute_reply": "2023-12-13T13:55:44.955287Z",
     "shell.execute_reply.started": "2023-12-13T13:55:44.942221Z"
    }
   },
   "outputs": [],
   "source": [
    "# Untuk mengupdate bobot dari generator dan discriminator\n",
    "# Definisi optimizer untuk model Generator.\n",
    "generator_optimizer = tf.keras.optimizers.Adam(learning_rate=1E-4, beta_1=0.9, beta_2=0.999, epsilon=1e-08)\n",
    "\n",
    "# Definisi optimizer untuk model Discriminator\n",
    "discriminator_optimizer = tf.keras.optimizers.Adam(learning_rate=1E-4, beta_1=0.9, beta_2=0.999, epsilon=1e-08)"
   ]
  },
  {
   "cell_type": "markdown",
   "metadata": {},
   "source": [
    "### Output of the Generated Image"
   ]
  },
  {
   "cell_type": "code",
   "execution_count": null,
   "metadata": {
    "execution": {
     "iopub.execute_input": "2023-12-13T13:55:44.961892Z",
     "iopub.status.busy": "2023-12-13T13:55:44.961636Z",
     "iopub.status.idle": "2023-12-13T13:55:44.967954Z",
     "shell.execute_reply": "2023-12-13T13:55:44.967018Z",
     "shell.execute_reply.started": "2023-12-13T13:55:44.961870Z"
    }
   },
   "outputs": [],
   "source": [
    "# Fungsi untuk menampilkan gambar-gambar dalam format yang telah diolah oleh model\n",
    "def generate_images(model, test_input, tar):\n",
    "    # Menghasilkan prediksi menggunakan model\n",
    "    prediction = model(test_input, training=True)\n",
    "    \n",
    "    # Membuat plot\n",
    "    plt.figure(figsize=(15, 15))\n",
    "    \n",
    "    # Daftar gambar yang akan ditampilkan dalam plot\n",
    "    display_list = [test_input[0], tar[0], prediction[0]]\n",
    "    \n",
    "    # Judul untuk setiap gambar dalam plot\n",
    "    title = ['Input Image', 'Ground Truth', 'Predicted Image']\n",
    "    \n",
    "    # Menampilkan setiap gambar dalam subplot\n",
    "    for i in range(3):\n",
    "        plt.subplot(1, 3, i+1)\n",
    "        plt.title(title[i])\n",
    "        # Menampilkan gambar dengan mengonversi nilai pixel ke rentang [0, 1]\n",
    "        plt.imshow(display_list[i] * 0.5 + 0.5)\n",
    "        plt.axis('off')\n",
    "    \n",
    "    # Menampilkan plot\n",
    "    plt.show()"
   ]
  },
  {
   "cell_type": "markdown",
   "metadata": {},
   "source": [
    "### Implementation of the Learning Algorithm"
   ]
  },
  {
   "cell_type": "code",
   "execution_count": null,
   "metadata": {
    "execution": {
     "iopub.execute_input": "2023-12-13T13:55:44.969106Z",
     "iopub.status.busy": "2023-12-13T13:55:44.968855Z",
     "iopub.status.idle": "2023-12-13T13:55:44.983847Z",
     "shell.execute_reply": "2023-12-13T13:55:44.982949Z",
     "shell.execute_reply.started": "2023-12-13T13:55:44.969085Z"
    }
   },
   "outputs": [],
   "source": [
    "# Anotasi tf.function digunakan untuk mengoptimalkan fungsi agar dapat dijalankan lebih efisien oleh TensorFlow\n",
    "@tf.function()\n",
    "def train_step(input_image, target, step):\n",
    "    # Menggunakan GradientTape untuk menghitung gradien terhadap parameter-model\n",
    "    with tf.GradientTape() as gen_tape, tf.GradientTape() as disc_tape:\n",
    "        # Menghasilkan output Generator menggunakan gambar input\n",
    "        gen_output = generator(input_image, training=True)\n",
    "        \n",
    "        # Menghitung output Discriminator untuk gambar asli dan gambar yang dihasilkan\n",
    "        disc_real_output = discriminator([input_image, target], training=True)\n",
    "        disc_generated_output = discriminator([input_image, gen_output], training=True)\n",
    "        \n",
    "        # Menghitung loss Generator (GAN loss dan L1 loss)\n",
    "        gen_total_loss, gen_gan_loss, gen_l1_loss = generator_loss(disc_generated_output, gen_output, target)\n",
    "        \n",
    "        # Menghitung loss Discriminator\n",
    "        disc_loss = discriminator_loss(disc_real_output, disc_generated_output)\n",
    "\n",
    "    # Menghitung gradien terhadap parameter-model Generator\n",
    "    generator_gradients = gen_tape.gradient(gen_total_loss, generator.trainable_variables)\n",
    "    \n",
    "    # Menghitung gradien terhadap parameter-model Discriminator\n",
    "    discriminator_gradients = disc_tape.gradient(disc_loss, discriminator.trainable_variables)\n",
    "\n",
    "    # Mengaplikasikan gradien pada optimizer untuk melakukan pembaruan parameter-model Generator\n",
    "    generator_optimizer.apply_gradients(zip(generator_gradients, generator.trainable_variables))\n",
    "    \n",
    "    # Mengaplikasikan gradien pada optimizer untuk melakukan pembaruan parameter-model Discriminator\n",
    "    discriminator_optimizer.apply_gradients(zip(discriminator_gradients, discriminator.trainable_variables))"
   ]
  },
  {
   "cell_type": "code",
   "execution_count": null,
   "metadata": {
    "execution": {
     "iopub.execute_input": "2023-12-13T13:55:44.985042Z",
     "iopub.status.busy": "2023-12-13T13:55:44.984793Z",
     "iopub.status.idle": "2023-12-13T13:55:44.995158Z",
     "shell.execute_reply": "2023-12-13T13:55:44.994365Z",
     "shell.execute_reply.started": "2023-12-13T13:55:44.985021Z"
    }
   },
   "outputs": [],
   "source": [
    "def fit(train_ds, steps):\n",
    "    # Mengambil satu contoh gambar input dan target dari dataset pelatihan\n",
    "    example_input, example_target = next(iter(train_ds.take(1)))\n",
    "    \n",
    "    # Melakukan iterasi sebanyak langkah yang ditentukan\n",
    "    for step, (input_image, target) in train_ds.repeat().take(steps).enumerate():\n",
    "        # Menampilkan gambar input, target, dan hasil prediksi setiap 1000 iterasi\n",
    "        if (step) % 1000 == 0:\n",
    "            generate_images(generator, example_input, example_target)\n",
    "            print(f\"Step: {step//1000}k\")\n",
    "        \n",
    "        # Melakukan satu langkah pelatihan menggunakan fungsi train_step\n",
    "        train_step(input_image, target, step)\n",
    "\n",
    "        # Mencetak titik (.) setiap 10 langkah sebagai indikator pelatihan sedang berlangsung\n",
    "        if (step+1) % 10 == 0:\n",
    "          print('.', end='')"
   ]
  },
  {
   "cell_type": "code",
   "execution_count": null,
   "metadata": {
    "execution": {
     "iopub.execute_input": "2023-12-13T13:55:44.996790Z",
     "iopub.status.busy": "2023-12-13T13:55:44.996069Z",
     "iopub.status.idle": "2023-12-13T20:04:50.299793Z",
     "shell.execute_reply": "2023-12-13T20:04:50.298724Z",
     "shell.execute_reply.started": "2023-12-13T13:55:44.996767Z"
    }
   },
   "outputs": [],
   "source": [
    "# Melatih model GAN pada dataset pelatihan sebanyak 150,000 langkah\n",
    "fit(train_dataset, steps=150000)"
   ]
  },
  {
   "cell_type": "markdown",
   "metadata": {},
   "source": [
    "## Testing"
   ]
  },
  {
   "cell_type": "markdown",
   "metadata": {},
   "source": [
    "Checking how the model works on training data"
   ]
  },
  {
   "cell_type": "code",
   "execution_count": null,
   "metadata": {
    "execution": {
     "iopub.execute_input": "2023-12-13T20:04:50.301510Z",
     "iopub.status.busy": "2023-12-13T20:04:50.301182Z",
     "iopub.status.idle": "2023-12-13T20:05:05.275442Z",
     "shell.execute_reply": "2023-12-13T20:05:05.274673Z",
     "shell.execute_reply.started": "2023-12-13T20:04:50.301485Z"
    }
   },
   "outputs": [],
   "source": [
    "# Menghasilkan dan menampilkan gambar-gambar hasil prediksi untuk 10 contoh dari dataset pelatihan\n",
    "for inp, tar in train_dataset.take(10):\n",
    "    # Memanggil fungsi generate_images untuk setiap pasangan gambar input (inp) dan target (tar)\n",
    "    generate_images(generator, inp, tar)"
   ]
  },
  {
   "cell_type": "markdown",
   "metadata": {},
   "source": [
    "Checking how the model works on test data"
   ]
  },
  {
   "cell_type": "code",
   "execution_count": null,
   "metadata": {
    "execution": {
     "iopub.execute_input": "2023-12-13T20:05:05.276970Z",
     "iopub.status.busy": "2023-12-13T20:05:05.276681Z",
     "iopub.status.idle": "2023-12-13T20:05:12.114618Z",
     "shell.execute_reply": "2023-12-13T20:05:12.113626Z",
     "shell.execute_reply.started": "2023-12-13T20:05:05.276945Z"
    }
   },
   "outputs": [],
   "source": [
    "# Menghasilkan dan menampilkan gambar-gambar hasil prediksi untuk 10 contoh dari dataset pengujian\n",
    "for inp, tar in test_dataset.take(10):\n",
    "    # Memanggil fungsi generate_images untuk setiap pasangan gambar input (inp) dan target (tar)\n",
    "    generate_images(generator, inp, tar)"
   ]
  },
  {
   "cell_type": "markdown",
   "metadata": {},
   "source": [
    "### We calculate the SSIM and PSNR metrics in order to check the accuracy of generation on the training dataset\n",
    "Perbedaan SSIM dan PSNR : untuk mengukur kualitas gambar dari prespektif yang berbeda.\n",
    " - SSIM : Berfokus pada kesamaan struktural dan dirancang untuk meniru persepsi manusia\n",
    " - PSNR : Matrix tradisional yang memperhatikan rasio signal-to-noise"
   ]
  },
  {
   "cell_type": "code",
   "execution_count": null,
   "metadata": {
    "execution": {
     "iopub.execute_input": "2023-12-13T20:05:12.116237Z",
     "iopub.status.busy": "2023-12-13T20:05:12.115934Z",
     "iopub.status.idle": "2023-12-13T20:05:22.775088Z",
     "shell.execute_reply": "2023-12-13T20:05:22.774192Z",
     "shell.execute_reply.started": "2023-12-13T20:05:12.116211Z"
    }
   },
   "outputs": [],
   "source": [
    "# Menghitung nilai Structural Similarity Index (SSIM) untuk 30 contoh dari dataset pelatihan\n",
    "ssims = []\n",
    "\n",
    "# Melakukan iterasi untuk 30 contoh dari dataset pelatihan\n",
    "for inp, tar in train_dataset.take(30):\n",
    "    # Menghitung SSIM antara gambar target (tar) dan hasil prediksi Generator untuk gambar input (inp)\n",
    "    ssim = tf.image.ssim(tar, generator(inp), max_val=1, filter_size=11, filter_sigma=1.5, k1=0.01, k2=0.03)\n",
    "    # Menambahkan nilai SSIM ke dalam daftar ssims\n",
    "    ssims.append(ssim)\n",
    "\n",
    "# Menghitung nilai rata-rata SSIM dari semua contoh    \n",
    "tf.reduce_mean(ssims)"
   ]
  },
  {
   "cell_type": "code",
   "execution_count": null,
   "metadata": {
    "execution": {
     "iopub.execute_input": "2023-12-13T20:05:22.776697Z",
     "iopub.status.busy": "2023-12-13T20:05:22.776368Z",
     "iopub.status.idle": "2023-12-13T20:05:33.341365Z",
     "shell.execute_reply": "2023-12-13T20:05:33.340393Z",
     "shell.execute_reply.started": "2023-12-13T20:05:22.776671Z"
    }
   },
   "outputs": [],
   "source": [
    "# Menghitung nilai Peak Signal-to-Noise Ratio (PSNR) untuk 30 contoh dari dataset pelatihan\n",
    "psnrs = []\n",
    "\n",
    "# Melakukan iterasi untuk 30 contoh dari dataset pelatihan\n",
    "for inp, tar in train_dataset.take(30):\n",
    "    # Menghitung PSNR antara gambar target (tar) dan hasil prediksi Generator untuk gambar input (inp)\n",
    "    psnr = tf.image.psnr(tar, generator(inp), max_val=1)\n",
    "    # Menambahkan nilai PSNR ke dalam daftar psnrs\n",
    "    psnrs.append(psnr)\n",
    "\n",
    "# Menghitung nilai rata-rata PSNR dari semua contoh\n",
    "tf.reduce_mean(psnrs)"
   ]
  },
  {
   "cell_type": "markdown",
   "metadata": {},
   "source": [
    "We calculate the SSIM and PSNR metrics in order to check the accuracy of generation on the test dataset"
   ]
  },
  {
   "cell_type": "code",
   "execution_count": null,
   "metadata": {
    "execution": {
     "iopub.execute_input": "2023-12-13T20:05:33.342971Z",
     "iopub.status.busy": "2023-12-13T20:05:33.342672Z",
     "iopub.status.idle": "2023-12-13T20:05:36.086590Z",
     "shell.execute_reply": "2023-12-13T20:05:36.085606Z",
     "shell.execute_reply.started": "2023-12-13T20:05:33.342945Z"
    }
   },
   "outputs": [],
   "source": [
    "# Menghitung nilai Structural Similarity Index (SSIM) untuk 30 contoh dari dataset pengujian\n",
    "ssims = []\n",
    "\n",
    "# Melakukan iterasi untuk 30 contoh dari dataset pengujian\n",
    "for inp, tar in test_dataset.take(30):\n",
    "    # Menghitung SSIM antara gambar target (tar) dan hasil prediksi Generator untuk gambar input (inp)\n",
    "    ssim = tf.image.ssim(tar, generator(inp), max_val=1, filter_size=11, filter_sigma=1.5, k1=0.01, k2=0.03)\n",
    "    # Menambahkan nilai SSIM ke dalam daftar ssims\n",
    "    ssims.append(ssim)\n",
    "\n",
    "# Menghitung nilai rata-rata SSIM dari semua contoh pada dataset pengujian\n",
    "tf.reduce_mean(ssims)"
   ]
  },
  {
   "cell_type": "code",
   "execution_count": null,
   "metadata": {
    "execution": {
     "iopub.execute_input": "2023-12-13T20:05:36.088288Z",
     "iopub.status.busy": "2023-12-13T20:05:36.087909Z",
     "iopub.status.idle": "2023-12-13T20:05:38.416264Z",
     "shell.execute_reply": "2023-12-13T20:05:38.415280Z",
     "shell.execute_reply.started": "2023-12-13T20:05:36.088252Z"
    }
   },
   "outputs": [],
   "source": [
    "# Menghitung nilai Peak Signal-to-Noise Ratio (PSNR) untuk 30 contoh dari dataset pengujian\n",
    "psnrs = []\n",
    "\n",
    "# Melakukan iterasi untuk 30 contoh dari dataset pengujian\n",
    "for inp, tar in test_dataset.take(30):\n",
    "    # Menghitung PSNR antara gambar target (tar) dan hasil prediksi Generator untuk gambar input (inp)\n",
    "    psnr = tf.image.psnr(tar, generator(inp), max_val=1)\n",
    "    # Menambahkan nilai PSNR ke dalam daftar psnrs\n",
    "    psnrs.append(psnr)\n",
    "    \n",
    "# Menghitung nilai rata-rata PSNR dari semua contoh pada dataset pengujian\n",
    "tf.reduce_mean(psnrs)"
   ]
  }
 ],
 "metadata": {
  "kaggle": {
   "accelerator": "nvidiaTeslaT4",
   "dataSources": [
    {
     "datasetId": 627736,
     "sourceId": 1118216,
     "sourceType": "datasetVersion"
    },
    {
     "datasetId": 3055596,
     "sourceId": 5251537,
     "sourceType": "datasetVersion"
    }
   ],
   "dockerImageVersionId": 30627,
   "isGpuEnabled": true,
   "isInternetEnabled": true,
   "language": "python",
   "sourceType": "notebook"
  },
  "kernelspec": {
   "display_name": "Python 3 (ipykernel)",
   "language": "python",
   "name": "python3"
  },
  "language_info": {
   "codemirror_mode": {
    "name": "ipython",
    "version": 3
   },
   "file_extension": ".py",
   "mimetype": "text/x-python",
   "name": "python",
   "nbconvert_exporter": "python",
   "pygments_lexer": "ipython3",
   "version": "3.9.18"
  }
 },
 "nbformat": 4,
 "nbformat_minor": 4
}
